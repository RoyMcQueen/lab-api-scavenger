{
 "cells": [
  {
   "cell_type": "code",
   "execution_count": 19,
   "metadata": {},
   "outputs": [],
   "source": [
    "import requests\n",
    "import pandas as pd"
   ]
  },
  {
   "cell_type": "code",
   "execution_count": 20,
   "metadata": {},
   "outputs": [
    {
     "data": {
      "text/plain": [
       "200"
      ]
     },
     "execution_count": 20,
     "metadata": {},
     "output_type": "execute_result"
    }
   ],
   "source": [
    "## Challenge 1\n",
    "\n",
    "url = 'https://api.github.com/repos/ironhack-datalabs/mad-oct-2018/forks'\n",
    "\n",
    "response = requests.get(url)\n",
    "\n",
    "response.status_code"
   ]
  },
  {
   "cell_type": "code",
   "execution_count": 21,
   "metadata": {},
   "outputs": [],
   "source": [
    "forks = response.json()\n",
    "\n"
   ]
  },
  {
   "cell_type": "code",
   "execution_count": 22,
   "metadata": {},
   "outputs": [],
   "source": [
    "forks_df = pd.DataFrame(forks)"
   ]
  },
  {
   "cell_type": "code",
   "execution_count": 23,
   "metadata": {},
   "outputs": [
    {
     "data": {
      "text/plain": [
       "Index(['id', 'node_id', 'name', 'full_name', 'private', 'owner', 'html_url',\n",
       "       'description', 'fork', 'url', 'forks_url', 'keys_url',\n",
       "       'collaborators_url', 'teams_url', 'hooks_url', 'issue_events_url',\n",
       "       'events_url', 'assignees_url', 'branches_url', 'tags_url', 'blobs_url',\n",
       "       'git_tags_url', 'git_refs_url', 'trees_url', 'statuses_url',\n",
       "       'languages_url', 'stargazers_url', 'contributors_url',\n",
       "       'subscribers_url', 'subscription_url', 'commits_url', 'git_commits_url',\n",
       "       'comments_url', 'issue_comment_url', 'contents_url', 'compare_url',\n",
       "       'merges_url', 'archive_url', 'downloads_url', 'issues_url', 'pulls_url',\n",
       "       'milestones_url', 'notifications_url', 'labels_url', 'releases_url',\n",
       "       'deployments_url', 'created_at', 'updated_at', 'pushed_at', 'git_url',\n",
       "       'ssh_url', 'clone_url', 'svn_url', 'homepage', 'size',\n",
       "       'stargazers_count', 'watchers_count', 'language', 'has_issues',\n",
       "       'has_projects', 'has_downloads', 'has_wiki', 'has_pages', 'forks_count',\n",
       "       'mirror_url', 'archived', 'disabled', 'open_issues_count', 'license',\n",
       "       'allow_forking', 'is_template', 'web_commit_signoff_required', 'topics',\n",
       "       'visibility', 'forks', 'open_issues', 'watchers', 'default_branch'],\n",
       "      dtype='object')"
      ]
     },
     "execution_count": 23,
     "metadata": {},
     "output_type": "execute_result"
    }
   ],
   "source": [
    "forks_df.columns"
   ]
  },
  {
   "cell_type": "code",
   "execution_count": 24,
   "metadata": {},
   "outputs": [],
   "source": [
    "languages = pd.json_normalize(response.json())['language'] ## worked with normalize, saved to a series"
   ]
  },
  {
   "cell_type": "code",
   "execution_count": 25,
   "metadata": {},
   "outputs": [
    {
     "data": {
      "text/plain": [
       "['HTML', 'Jupyter Notebook', None]"
      ]
     },
     "execution_count": 25,
     "metadata": {},
     "output_type": "execute_result"
    }
   ],
   "source": [
    "list(set([language for language in languages]))  ## looped the series in a list comp, then used set to eliminate duplicates, then back to list"
   ]
  },
  {
   "cell_type": "code",
   "execution_count": 26,
   "metadata": {},
   "outputs": [],
   "source": [
    "## Challenge 2"
   ]
  },
  {
   "cell_type": "code",
   "execution_count": 27,
   "metadata": {},
   "outputs": [
    {
     "data": {
      "text/plain": [
       "200"
      ]
     },
     "execution_count": 27,
     "metadata": {},
     "output_type": "execute_result"
    }
   ],
   "source": [
    "url = 'https://api.github.com/repos/RoyMcQueen/lab-list-comprehensions/commits?' \n",
    "\n",
    "response = requests.get(url)\n",
    "\n",
    "response.status_code\n"
   ]
  },
  {
   "cell_type": "code",
   "execution_count": 28,
   "metadata": {},
   "outputs": [
    {
     "data": {
      "text/plain": [
       "0    {'author': {'name': 'Rui Ferreira', 'email': '...\n",
       "1    {'author': {'name': 'Rui Ferreira', 'email': '...\n",
       "2    {'author': {'name': 'carlosmd14', 'email': 'ca...\n",
       "3    {'author': {'name': 'carlosmd14', 'email': 'ca...\n",
       "4    {'author': {'name': 'carlosmd14', 'email': 'ca...\n",
       "Name: commit, dtype: object"
      ]
     },
     "execution_count": 28,
     "metadata": {},
     "output_type": "execute_result"
    }
   ],
   "source": [
    "commits['commit']"
   ]
  },
  {
   "cell_type": "code",
   "execution_count": 29,
   "metadata": {},
   "outputs": [
    {
     "data": {
      "text/html": [
       "<div>\n",
       "<style scoped>\n",
       "    .dataframe tbody tr th:only-of-type {\n",
       "        vertical-align: middle;\n",
       "    }\n",
       "\n",
       "    .dataframe tbody tr th {\n",
       "        vertical-align: top;\n",
       "    }\n",
       "\n",
       "    .dataframe thead th {\n",
       "        text-align: right;\n",
       "    }\n",
       "</style>\n",
       "<table border=\"1\" class=\"dataframe\">\n",
       "  <thead>\n",
       "    <tr style=\"text-align: right;\">\n",
       "      <th></th>\n",
       "      <th>sha</th>\n",
       "      <th>node_id</th>\n",
       "      <th>commit</th>\n",
       "      <th>url</th>\n",
       "      <th>html_url</th>\n",
       "      <th>comments_url</th>\n",
       "      <th>author</th>\n",
       "      <th>committer</th>\n",
       "      <th>parents</th>\n",
       "    </tr>\n",
       "  </thead>\n",
       "  <tbody>\n",
       "    <tr>\n",
       "      <th>0</th>\n",
       "      <td>b52015fc802dbc2cd0b8a9d011dcaa36f1d02aa6</td>\n",
       "      <td>C_kwDOHmy1mtoAKGI1MjAxNWZjODAyZGJjMmNkMGI4YTlk...</td>\n",
       "      <td>{'author': {'name': 'Rui Ferreira', 'email': '...</td>\n",
       "      <td>https://api.github.com/repos/RoyMcQueen/lab-li...</td>\n",
       "      <td>https://github.com/RoyMcQueen/lab-list-compreh...</td>\n",
       "      <td>https://api.github.com/repos/RoyMcQueen/lab-li...</td>\n",
       "      <td>{'login': 'RoyMcQueen', 'id': 99211748, 'node_...</td>\n",
       "      <td>{'login': 'RoyMcQueen', 'id': 99211748, 'node_...</td>\n",
       "      <td>[{'sha': '3df2e9551de094f9dd5c73f29e3cd6eace69...</td>\n",
       "    </tr>\n",
       "    <tr>\n",
       "      <th>1</th>\n",
       "      <td>3df2e9551de094f9dd5c73f29e3cd6eace696918</td>\n",
       "      <td>C_kwDOHmy1mtoAKDNkZjJlOTU1MWRlMDk0ZjlkZDVjNzNm...</td>\n",
       "      <td>{'author': {'name': 'Rui Ferreira', 'email': '...</td>\n",
       "      <td>https://api.github.com/repos/RoyMcQueen/lab-li...</td>\n",
       "      <td>https://github.com/RoyMcQueen/lab-list-compreh...</td>\n",
       "      <td>https://api.github.com/repos/RoyMcQueen/lab-li...</td>\n",
       "      <td>{'login': 'RoyMcQueen', 'id': 99211748, 'node_...</td>\n",
       "      <td>{'login': 'RoyMcQueen', 'id': 99211748, 'node_...</td>\n",
       "      <td>[{'sha': '8949a53afaeae22f5ce7eba669b73c4479c9...</td>\n",
       "    </tr>\n",
       "    <tr>\n",
       "      <th>2</th>\n",
       "      <td>8949a53afaeae22f5ce7eba669b73c4479c93542</td>\n",
       "      <td>MDY6Q29tbWl0NTEwNDQwODU4Ojg5NDlhNTNhZmFlYWUyMm...</td>\n",
       "      <td>{'author': {'name': 'carlosmd14', 'email': 'ca...</td>\n",
       "      <td>https://api.github.com/repos/RoyMcQueen/lab-li...</td>\n",
       "      <td>https://github.com/RoyMcQueen/lab-list-compreh...</td>\n",
       "      <td>https://api.github.com/repos/RoyMcQueen/lab-li...</td>\n",
       "      <td>{'login': 'Madrizing', 'id': 45972288, 'node_i...</td>\n",
       "      <td>{'login': 'Madrizing', 'id': 45972288, 'node_i...</td>\n",
       "      <td>[{'sha': '5621b3256668f9a15172d79124be70933fab...</td>\n",
       "    </tr>\n",
       "    <tr>\n",
       "      <th>3</th>\n",
       "      <td>5621b3256668f9a15172d79124be70933faba2d9</td>\n",
       "      <td>MDY6Q29tbWl0NTEwNDQwODU4OjU2MjFiMzI1NjY2OGY5YT...</td>\n",
       "      <td>{'author': {'name': 'carlosmd14', 'email': 'ca...</td>\n",
       "      <td>https://api.github.com/repos/RoyMcQueen/lab-li...</td>\n",
       "      <td>https://github.com/RoyMcQueen/lab-list-compreh...</td>\n",
       "      <td>https://api.github.com/repos/RoyMcQueen/lab-li...</td>\n",
       "      <td>{'login': 'Madrizing', 'id': 45972288, 'node_i...</td>\n",
       "      <td>{'login': 'Madrizing', 'id': 45972288, 'node_i...</td>\n",
       "      <td>[{'sha': '80d757c463929428fcc3257b8f48d811a66d...</td>\n",
       "    </tr>\n",
       "    <tr>\n",
       "      <th>4</th>\n",
       "      <td>80d757c463929428fcc3257b8f48d811a66dc6cc</td>\n",
       "      <td>MDY6Q29tbWl0NTEwNDQwODU4OjgwZDc1N2M0NjM5Mjk0Mj...</td>\n",
       "      <td>{'author': {'name': 'carlosmd14', 'email': 'ca...</td>\n",
       "      <td>https://api.github.com/repos/RoyMcQueen/lab-li...</td>\n",
       "      <td>https://github.com/RoyMcQueen/lab-list-compreh...</td>\n",
       "      <td>https://api.github.com/repos/RoyMcQueen/lab-li...</td>\n",
       "      <td>{'login': 'Madrizing', 'id': 45972288, 'node_i...</td>\n",
       "      <td>{'login': 'Madrizing', 'id': 45972288, 'node_i...</td>\n",
       "      <td>[]</td>\n",
       "    </tr>\n",
       "  </tbody>\n",
       "</table>\n",
       "</div>"
      ],
      "text/plain": [
       "                                        sha  \\\n",
       "0  b52015fc802dbc2cd0b8a9d011dcaa36f1d02aa6   \n",
       "1  3df2e9551de094f9dd5c73f29e3cd6eace696918   \n",
       "2  8949a53afaeae22f5ce7eba669b73c4479c93542   \n",
       "3  5621b3256668f9a15172d79124be70933faba2d9   \n",
       "4  80d757c463929428fcc3257b8f48d811a66dc6cc   \n",
       "\n",
       "                                             node_id  \\\n",
       "0  C_kwDOHmy1mtoAKGI1MjAxNWZjODAyZGJjMmNkMGI4YTlk...   \n",
       "1  C_kwDOHmy1mtoAKDNkZjJlOTU1MWRlMDk0ZjlkZDVjNzNm...   \n",
       "2  MDY6Q29tbWl0NTEwNDQwODU4Ojg5NDlhNTNhZmFlYWUyMm...   \n",
       "3  MDY6Q29tbWl0NTEwNDQwODU4OjU2MjFiMzI1NjY2OGY5YT...   \n",
       "4  MDY6Q29tbWl0NTEwNDQwODU4OjgwZDc1N2M0NjM5Mjk0Mj...   \n",
       "\n",
       "                                              commit  \\\n",
       "0  {'author': {'name': 'Rui Ferreira', 'email': '...   \n",
       "1  {'author': {'name': 'Rui Ferreira', 'email': '...   \n",
       "2  {'author': {'name': 'carlosmd14', 'email': 'ca...   \n",
       "3  {'author': {'name': 'carlosmd14', 'email': 'ca...   \n",
       "4  {'author': {'name': 'carlosmd14', 'email': 'ca...   \n",
       "\n",
       "                                                 url  \\\n",
       "0  https://api.github.com/repos/RoyMcQueen/lab-li...   \n",
       "1  https://api.github.com/repos/RoyMcQueen/lab-li...   \n",
       "2  https://api.github.com/repos/RoyMcQueen/lab-li...   \n",
       "3  https://api.github.com/repos/RoyMcQueen/lab-li...   \n",
       "4  https://api.github.com/repos/RoyMcQueen/lab-li...   \n",
       "\n",
       "                                            html_url  \\\n",
       "0  https://github.com/RoyMcQueen/lab-list-compreh...   \n",
       "1  https://github.com/RoyMcQueen/lab-list-compreh...   \n",
       "2  https://github.com/RoyMcQueen/lab-list-compreh...   \n",
       "3  https://github.com/RoyMcQueen/lab-list-compreh...   \n",
       "4  https://github.com/RoyMcQueen/lab-list-compreh...   \n",
       "\n",
       "                                        comments_url  \\\n",
       "0  https://api.github.com/repos/RoyMcQueen/lab-li...   \n",
       "1  https://api.github.com/repos/RoyMcQueen/lab-li...   \n",
       "2  https://api.github.com/repos/RoyMcQueen/lab-li...   \n",
       "3  https://api.github.com/repos/RoyMcQueen/lab-li...   \n",
       "4  https://api.github.com/repos/RoyMcQueen/lab-li...   \n",
       "\n",
       "                                              author  \\\n",
       "0  {'login': 'RoyMcQueen', 'id': 99211748, 'node_...   \n",
       "1  {'login': 'RoyMcQueen', 'id': 99211748, 'node_...   \n",
       "2  {'login': 'Madrizing', 'id': 45972288, 'node_i...   \n",
       "3  {'login': 'Madrizing', 'id': 45972288, 'node_i...   \n",
       "4  {'login': 'Madrizing', 'id': 45972288, 'node_i...   \n",
       "\n",
       "                                           committer  \\\n",
       "0  {'login': 'RoyMcQueen', 'id': 99211748, 'node_...   \n",
       "1  {'login': 'RoyMcQueen', 'id': 99211748, 'node_...   \n",
       "2  {'login': 'Madrizing', 'id': 45972288, 'node_i...   \n",
       "3  {'login': 'Madrizing', 'id': 45972288, 'node_i...   \n",
       "4  {'login': 'Madrizing', 'id': 45972288, 'node_i...   \n",
       "\n",
       "                                             parents  \n",
       "0  [{'sha': '3df2e9551de094f9dd5c73f29e3cd6eace69...  \n",
       "1  [{'sha': '8949a53afaeae22f5ce7eba669b73c4479c9...  \n",
       "2  [{'sha': '5621b3256668f9a15172d79124be70933fab...  \n",
       "3  [{'sha': '80d757c463929428fcc3257b8f48d811a66d...  \n",
       "4                                                 []  "
      ]
     },
     "execution_count": 29,
     "metadata": {},
     "output_type": "execute_result"
    }
   ],
   "source": [
    "# 1)\n",
    "\n",
    "commits = pd.DataFrame(response.json())\n",
    "commits"
   ]
  },
  {
   "cell_type": "code",
   "execution_count": 30,
   "metadata": {},
   "outputs": [
    {
     "data": {
      "text/plain": [
       "5"
      ]
     },
     "execution_count": 30,
     "metadata": {},
     "output_type": "execute_result"
    }
   ],
   "source": [
    "# 2)\n",
    "\n",
    "len(commits['commit'])"
   ]
  },
  {
   "cell_type": "code",
   "execution_count": null,
   "metadata": {},
   "outputs": [],
   "source": []
  },
  {
   "cell_type": "code",
   "execution_count": null,
   "metadata": {},
   "outputs": [],
   "source": []
  }
 ],
 "metadata": {
  "kernelspec": {
   "display_name": "Python 3.9.12 ('julyironhack')",
   "language": "python",
   "name": "python3"
  },
  "language_info": {
   "codemirror_mode": {
    "name": "ipython",
    "version": 3
   },
   "file_extension": ".py",
   "mimetype": "text/x-python",
   "name": "python",
   "nbconvert_exporter": "python",
   "pygments_lexer": "ipython3",
   "version": "3.9.12"
  },
  "orig_nbformat": 4,
  "vscode": {
   "interpreter": {
    "hash": "d4f28bf35b1054d239a9ee1bfa6fb652dd82e0e5a8ae6f2857cd28eda2674f2d"
   }
  }
 },
 "nbformat": 4,
 "nbformat_minor": 2
}
